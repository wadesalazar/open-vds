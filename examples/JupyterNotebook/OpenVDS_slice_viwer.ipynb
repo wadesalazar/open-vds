{
 "cells": [
  {
   "cell_type": "code",
   "execution_count": null,
   "metadata": {},
   "outputs": [],
   "source": [
    "import openvds\n",
    "import matplotlib.pyplot as plt\n",
    "import matplotlib\n",
    "import matplotlib.image as mpimg\n",
    "import numpy as np\n",
    "import time\n",
    "%matplotlib inline\n",
    "matplotlib.rcParams['figure.figsize'] = (16, 16)"
   ]
  },
  {
   "cell_type": "code",
   "execution_count": null,
   "metadata": {},
   "outputs": [],
   "source": [
    "error = openvds.Error()\n",
    "openOptions = openvds.AWSOpenOptions(\"BUCKET\", \"KEY\", \"REGION\")\n",
    "vds = openvds.open(openOptions, error)\n",
    "accessManager = openvds.VolumeDataAccessManager(vds)"
   ]
  },
  {
   "cell_type": "code",
   "execution_count": null,
   "metadata": {},
   "outputs": [],
   "source": [
    "layout = openvds.getLayout(vds)\n",
    "axisDescriptors = [layout.getAxisDescriptor(dim) for dim in range(layout.getDimensionality())]\n",
    "sliceType = 'inline'\n",
    "sliceIndex = 55\n",
    "sliceDimension = 2 if sliceType == 'inline' else 1 if sliceType == 'crossline' else 0 if sliceType == 'timeslice' else 0 if sliceType == 'depthslice' else -1\n",
    "\n",
    "min = tuple(sliceIndex + 0 if dim == sliceDimension else 0 for dim in range(6))\n",
    "max = tuple(sliceIndex + 1 if dim == sliceDimension else layout.getDimensionNumSamples(dim) for dim in range(6))\n",
    "\n",
    "req = accessManager.requestVolumeSubset(min, max, format = openvds.VolumeDataChannelDescriptor.Format.Format_R32)\n",
    "height = max[0] if sliceDimension != 0 else max[1]\n",
    "width  = max[2] if sliceDimension != 2 else max[1]\n",
    "\n",
    "data = req.data.reshape(width, height).transpose()\n",
    "plt.imshow(data)\n"
   ]
  },
  {
   "cell_type": "code",
   "execution_count": null,
   "metadata": {},
   "outputs": [],
   "source": []
  }
 ],
 "metadata": {
  "kernelspec": {
   "display_name": "Python 3",
   "language": "python",
   "name": "python3"
  },
  "language_info": {
   "codemirror_mode": {
    "name": "ipython",
    "version": 3
   },
   "file_extension": ".py",
   "mimetype": "text/x-python",
   "name": "python",
   "nbconvert_exporter": "python",
   "pygments_lexer": "ipython3",
   "version": "3.6.8"
  }
 },
 "nbformat": 4,
 "nbformat_minor": 4
}
